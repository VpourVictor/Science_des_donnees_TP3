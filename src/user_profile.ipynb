{
 "cells": [
  {
   "cell_type": "code",
   "execution_count": null,
   "metadata": {},
   "outputs": [],
   "source": [
    "import pandas as pd\n",
    "import numpy as np\n",
    "import matplotlib.pyplot as plt\n",
    "import utils\n",
    "from joblib import Parallel, delayed"
   ]
  },
  {
   "cell_type": "code",
   "execution_count": null,
   "metadata": {},
   "outputs": [],
   "source": [
    "movies_data_path = \"../data/movies.csv\"\n",
    "ratings_data_path = \"../data/ratings.csv\"\n",
    "movies_1_data_path = \"../data/movies1.csv\"\n",
    "ratings_1_data_path = \"../data/ratings1.csv\"\n",
    "movie_matrix_path = \"../data/movie_matrix.csv\""
   ]
  },
  {
   "cell_type": "code",
   "execution_count": null,
   "metadata": {},
   "outputs": [],
   "source": [
    "df_movies_1 = utils.init_traitement_DB(movies_1_data_path)\n",
    "df_ratings_1 = utils.init_traitement_DB(ratings_1_data_path).drop(columns=['timestamp'])\n",
    "#df_movie_matrix = utils.init_traitement_DB(movie_matrix_path)\n",
    "\n",
    "df_movies1_trunc, df_ratings1_trunc = utils.filter_dataframes_by_threshold(1000, df_movies_1, df_ratings_1)\n"
   ]
  },
  {
   "cell_type": "code",
   "execution_count": null,
   "metadata": {},
   "outputs": [],
   "source": [
    "r1 = utils.get_rating(1, 1, df_ratings_1)\n",
    "r2 = utils.get_rating(1, 296, df_ratings_1)\n",
    "\n",
    "print(r2)\n",
    "m = utils.get_mean_rating(1, df_ratings_1)\n",
    "print(m)\n",
    "liste = utils.get_movies_rated(1, df_ratings_1)\n",
    "print(liste)\n",
    "inter = utils.get_same_movies(1, 2, df_ratings_1)\n",
    "print(inter)\n",
    "cor = utils.pearson_correlation_users(1,2,df_ratings_1)\n",
    "print(cor)\n",
    "mean = utils.movie_mean_rating(62, df_ratings_1)\n",
    "print(mean)\n",
    "cor_movies = utils.pearson_correlation_movies(296,306, df_ratings1_trunc)\n",
    "print(cor_movies)\n"
   ]
  },
  {
   "cell_type": "code",
   "execution_count": null,
   "metadata": {},
   "outputs": [],
   "source": [
    "df_movie_matrix_trunc = utils.create_db_content_movie(df_movies1_trunc)\n",
    "#delete the column corresponding to the movieId\n",
    "print(\"shape : \", df_movie_matrix_trunc.shape)\n",
    "df_movie_matrix_trunc.head()"
   ]
  },
  {
   "cell_type": "code",
   "execution_count": null,
   "metadata": {},
   "outputs": [],
   "source": [
    "df_ratings1_trunc.head()\n",
    "df_ratings1_trunc['userId'].unique()\n",
    "for user in df_ratings1_trunc['userId'].unique():\n",
    "    print(user)\n",
    "    print(df_ratings1_trunc[df_ratings1_trunc['userId'] == user])\n",
    "    break"
   ]
  },
  {
   "cell_type": "code",
   "execution_count": null,
   "metadata": {},
   "outputs": [],
   "source": [
    "user_profiles = utils.calculate_user_profiles(df_ratings1_trunc, df_movie_matrix_trunc)"
   ]
  },
  {
   "cell_type": "code",
   "execution_count": null,
   "metadata": {},
   "outputs": [],
   "source": [
    "user_profiles.head()"
   ]
  }
 ],
 "metadata": {
  "kernelspec": {
   "display_name": "my_env",
   "language": "python",
   "name": "python3"
  },
  "language_info": {
   "codemirror_mode": {
    "name": "ipython",
    "version": 3
   },
   "file_extension": ".py",
   "mimetype": "text/x-python",
   "name": "python",
   "nbconvert_exporter": "python",
   "pygments_lexer": "ipython3",
   "version": "3.12.3"
  }
 },
 "nbformat": 4,
 "nbformat_minor": 2
}
