{
 "cells": [
  {
   "cell_type": "code",
   "execution_count": 1,
   "metadata": {},
   "outputs": [],
   "source": [
    "import pandas as pd\n",
    "import numpy as np\n",
    "import matplotlib.pyplot as plt\n",
    "import utils"
   ]
  },
  {
   "cell_type": "code",
   "execution_count": 2,
   "metadata": {},
   "outputs": [],
   "source": [
    "movies_data_path = \"../data/movies.csv\"\n",
    "ratings_data_path = \"../data/ratings.csv\"\n",
    "movies_1_data_path = \"../data/movies1.csv\"\n",
    "ratings_1_data_path = \"../data/ratings1.csv\"\n"
   ]
  },
  {
   "cell_type": "code",
   "execution_count": 3,
   "metadata": {},
   "outputs": [
    {
     "name": "stdout",
     "output_type": "stream",
     "text": [
      "Reduction in movies: 10.18%\n",
      "Reduction in ratings: 83.29%\n"
     ]
    }
   ],
   "source": [
    "df_movies_1 = utils.init_traitement_DB(movies_1_data_path)\n",
    "df_ratings_1 = utils.init_traitement_DB(ratings_1_data_path)\n",
    "\n",
    "df_movies1_trunc, df_ratings1_trunc = utils.filter_dataframes_by_threshold(1000, df_movies_1, df_ratings_1)"
   ]
  },
  {
   "cell_type": "code",
   "execution_count": 4,
   "metadata": {},
   "outputs": [],
   "source": [
    "utils.create_db_content_movie(df_movies_1, save=False)"
   ]
  }
 ],
 "metadata": {
  "kernelspec": {
   "display_name": "my_env",
   "language": "python",
   "name": "python3"
  },
  "language_info": {
   "codemirror_mode": {
    "name": "ipython",
    "version": 3
   },
   "file_extension": ".py",
   "mimetype": "text/x-python",
   "name": "python",
   "nbconvert_exporter": "python",
   "pygments_lexer": "ipython3",
   "version": "3.12.3"
  }
 },
 "nbformat": 4,
 "nbformat_minor": 2
}
