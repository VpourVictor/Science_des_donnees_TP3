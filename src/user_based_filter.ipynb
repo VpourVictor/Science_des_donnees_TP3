{
 "cells": [
  {
   "cell_type": "code",
   "execution_count": null,
   "metadata": {},
   "outputs": [],
   "source": [
    "import utils"
   ]
  },
  {
   "cell_type": "code",
   "execution_count": null,
   "metadata": {},
   "outputs": [],
   "source": [
    "#import des données\n",
    "train_path = \"../data/ratings_apprentissage.csv\"\n",
    "val_path = \"../data/ratings_evaluation.csv\"\n",
    "\n",
    "train_subset = utils.init_traitement_DB()"
   ]
  }
 ],
 "metadata": {
  "language_info": {
   "name": "python"
  }
 },
 "nbformat": 4,
 "nbformat_minor": 2
}
