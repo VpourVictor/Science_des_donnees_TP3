{
 "cells": [
  {
   "cell_type": "code",
   "execution_count": null,
   "metadata": {},
   "outputs": [],
   "source": [
    "import pandas as pd\n",
    "import numpy as np\n",
    "import matplotlib.pyplot as plt\n",
    "import utils\n",
    "from sklearn.model_selection import train_test_split\n",
    "from sklearn.metrics import mean_squared_error\n"
   ]
  },
  {
   "cell_type": "code",
   "execution_count": null,
   "metadata": {},
   "outputs": [],
   "source": [
    "movies_data_path = \"../data/movies.csv\"\n",
    "ratings_data_path = \"../data/ratings.csv\"\n",
    "movies_1_data_path = \"../data/movies1.csv\"\n",
    "ratings_1_data_path = \"../data/ratings1.csv\"\n",
    "movie_matrix_path = \"../data/movie_matrix.csv\"\n",
    "ratings_apprentissage_path = \"../data/ratings_apprentissage.csv\""
   ]
  },
  {
   "cell_type": "code",
   "execution_count": null,
   "metadata": {},
   "outputs": [],
   "source": [
    "\n",
    "df_movies_1 = utils.init_traitement_DB(movies_1_data_path)\n",
    "df_ratings_1 = utils.init_traitement_DB(ratings_1_data_path).drop(columns=['timestamp'])\n",
    "df_movies1_trunc, df_ratings1_trunc = utils.filter_dataframes_by_threshold(50, df_movies_1, df_ratings_1)\n",
    "\n",
    "df_ratings_apprentissage, df_ratings_validation = train_test_split(df_ratings1_trunc, test_size=0.2, random_state=42)\n",
    "\n",
    "#df_ratings_apprentissage = utils.init_traitement_DB(ratings_apprentissage_path).drop(columns=['timestamp'])"
   ]
  },
  {
   "cell_type": "code",
   "execution_count": null,
   "metadata": {},
   "outputs": [],
   "source": [
    "df_movie_matrix = utils.create_db_content_movie(df_movies_1)\n",
    "print(\"shape : \", df_movie_matrix.shape)\n",
    "df_movie_matrix.head()"
   ]
  },
  {
   "cell_type": "code",
   "execution_count": null,
   "metadata": {},
   "outputs": [],
   "source": [
    "user_profiles = utils.calculate_user_profiles(df_ratings_apprentissage, df_movie_matrix)"
   ]
  },
  {
   "cell_type": "code",
   "execution_count": null,
   "metadata": {},
   "outputs": [],
   "source": [
    "user_profiles.head()"
   ]
  },
  {
   "cell_type": "code",
   "execution_count": null,
   "metadata": {},
   "outputs": [],
   "source": [
    "cluster_labels = utils.determine_optimal_clusters_para(user_profiles, cluster_method='K_means', max_clusters=10)"
   ]
  },
  {
   "cell_type": "code",
   "execution_count": null,
   "metadata": {},
   "outputs": [],
   "source": [
    "# Fonction pour prédire les évaluations et calculer l'erreur de prédiction\n",
    "def predict(user_profiles, content_matrix, cluster_labels, df_ratings_validation, user_id_to_index):\n",
    "    predictions = []\n",
    "    true_ratings = []\n",
    "\n",
    "    for index, row in df_ratings_validation.iterrows():\n",
    "        user_id = row['userId']\n",
    "        movie_id = row['movieId']\n",
    "        true_rating = row['rating']\n",
    "\n",
    "        user_profile = user_profiles.loc[user_id]\n",
    "        user_cluster = cluster_labels[user_id_to_index[user_id]]  # Use the correct index\n",
    "        cluster_users = user_profiles[cluster_labels == user_cluster]\n",
    "        cluster_profile = cluster_users.mean()\n",
    "\n",
    "        if movie_id in content_matrix.index:\n",
    "            similarity_scores = content_matrix.loc[movie_id].dot(cluster_profile)\n",
    "            # Adding influence of the average rating of the movie\n",
    "            movie_ratings = df_ratings_apprentissage[df_ratings_apprentissage['movieId'] == movie_id]['rating']\n",
    "            if not movie_ratings.empty:\n",
    "                average_movie_rating = movie_ratings.mean()\n",
    "                predicted_rating =  (average_movie_rating+ similarity_scores) /2\n",
    "                \n",
    "                predictions.append(predicted_rating)\n",
    "                true_ratings.append(true_rating)\n",
    "\n",
    "    mse = mean_squared_error(true_ratings, predictions)\n",
    "    print(f\"Mean Squared Error: {mse}\")\n",
    "    return mse\n"
   ]
  },
  {
   "cell_type": "code",
   "execution_count": null,
   "metadata": {},
   "outputs": [],
   "source": [
    "user_profiles.head()"
   ]
  },
  {
   "cell_type": "code",
   "execution_count": null,
   "metadata": {},
   "outputs": [],
   "source": [
    "user_id_to_index = {user_id: index for index, user_id in enumerate(user_profiles.index)}\n",
    "\n"
   ]
  },
  {
   "cell_type": "code",
   "execution_count": null,
   "metadata": {},
   "outputs": [],
   "source": [
    "#optimal_clusters_silhouette = utils.determine_optimal_clusters_para(user_profiles, cluster_method='silhouette', max_clusters=10, n_jobs=-1)\n",
    "#print(f\"The optimal number of clusters for silhouette is: {optimal_clusters_silhouette}\")\n",
    "\n",
    "# Appliquer le clustering spectral\n",
    "#cluster_labels_silhouette = utils.apply_spectral_clustering(user_profiles, optimal_clusters_silhouette)\n",
    "\n",
    "#optimal_clusters_Kmeans = determine_optimal_clusters(user_profiles, cluster_method='K_means', max_clusters=10, n_jobs=-1)\n",
    "optimal_clusters_Kmeans = utils.determine_optimal_clusters_para(user_profiles, cluster_method='K_means', max_clusters=5)\n",
    "print(f\"The optimal number of clusters for Kmeans is: {optimal_clusters_Kmeans}\")\n",
    "\n",
    "# Appliquer le clustering Kmeans\n",
    "cluster_labels_Kmeans = utils.apply_kmeans_clustering(user_profiles, optimal_clusters_Kmeans)\n",
    "\n",
    "#print(\"Shape of cluster_labels_silhouette: \", cluster_labels_silhouette.shape)\n",
    "print(\"Shape of cluster_labels_Kmeans: \", cluster_labels_Kmeans.shape)\n"
   ]
  },
  {
   "cell_type": "code",
   "execution_count": null,
   "metadata": {},
   "outputs": [],
   "source": [
    "# Comparer les deux méthodes de clustering\n",
    "#mse_spectral = predict(user_profiles, df_movie_matrix, cluster_labels_silhouette, df_ratings_validation, user_id_to_index)\n",
    "\n",
    "#print(f\"MSE for Spectral Clustering: {mse_spectral}\")\n"
   ]
  },
  {
   "cell_type": "code",
   "execution_count": null,
   "metadata": {},
   "outputs": [],
   "source": [
    "mse_kmeans = predict(user_profiles, df_movie_matrix, cluster_labels_Kmeans, df_ratings_validation, user_id_to_index)\n",
    "\n",
    "print(f\"MSE for Kmeans Clustering: {mse_kmeans}\")"
   ]
  },
  {
   "cell_type": "code",
   "execution_count": null,
   "metadata": {},
   "outputs": [],
   "source": [
    "cluster_labels_Kmeans_200 = utils.apply_kmeans_clustering(user_profiles, 200)\n",
    "\n",
    "mse_kmeans_200 = predict(user_profiles, df_movie_matrix, cluster_labels_Kmeans_200, df_ratings_validation, user_id_to_index)\n",
    "\n",
    "print(f\"MSE for Kmeans Clustering 200: {mse_kmeans_200}\")"
   ]
  },
  {
   "cell_type": "code",
   "execution_count": null,
   "metadata": {},
   "outputs": [],
   "source": [
    "        #user_profile = user_profiles.loc[user_id]\n",
    "        #user_cluster = cluster_labels[user_id_to_index[user_id]] \n",
    "        #cluster_users = user_profiles[cluster_labels == user_cluster]\n",
    "        #cluster_profile = cluster_users.mean()\n",
    "#\n",
    "        #movie_ratings = df_ratings_apprentissage[df_ratings_apprentissage['movieId'] == movie_id]['rating']\n",
    "        #movie_ratings = movie_ratings[movie_ratings['userId'].isin(cluster_users.index)]"
   ]
  }
 ],
 "metadata": {
  "kernelspec": {
   "display_name": "my_env",
   "language": "python",
   "name": "python3"
  },
  "language_info": {
   "codemirror_mode": {
    "name": "ipython",
    "version": 3
   },
   "file_extension": ".py",
   "mimetype": "text/x-python",
   "name": "python",
   "nbconvert_exporter": "python",
   "pygments_lexer": "ipython3",
   "version": "3.12.3"
  }
 },
 "nbformat": 4,
 "nbformat_minor": 2
}
